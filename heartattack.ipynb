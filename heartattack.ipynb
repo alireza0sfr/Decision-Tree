{
 "cells": [
  {
   "cell_type": "markdown",
   "id": "b148bb3b",
   "metadata": {},
   "source": [
    "# Heart Attack\n",
    "Training a model that can predict whether a person has high chance of heart attack"
   ]
  },
  {
   "cell_type": "markdown",
   "id": "c6cebe1d",
   "metadata": {},
   "source": [
    "### Importing the required libraries "
   ]
  },
  {
   "cell_type": "code",
   "execution_count": 1,
   "id": "d96be789",
   "metadata": {},
   "outputs": [],
   "source": [
    "import matplotlib.pyplot as plt\n",
    "import pandas as pd\n",
    "import numpy as np\n",
    "from sklearn import preprocessing, metrics\n",
    "from sklearn.model_selection import train_test_split\n",
    "from sklearn.tree import DecisionTreeClassifier\n",
    "from io import StringIO\n",
    "import pydotplus\n",
    "import matplotlib.image as mpimg\n",
    "from sklearn import tree \n",
    "from joblib import dump\n",
    "%matplotlib inline"
   ]
  },
  {
   "cell_type": "markdown",
   "id": "d44882fa",
   "metadata": {},
   "source": [
    "### Reading the data and trying to understand it"
   ]
  },
  {
   "cell_type": "code",
   "execution_count": 2,
   "id": "2bb11642",
   "metadata": {},
   "outputs": [
    {
     "name": "stdout",
     "output_type": "stream",
     "text": [
      "age           int64\n",
      "sex           int64\n",
      "cp            int64\n",
      "trtbps        int64\n",
      "chol          int64\n",
      "fbs           int64\n",
      "restecg       int64\n",
      "thalachh      int64\n",
      "exng          int64\n",
      "oldpeak     float64\n",
      "slp           int64\n",
      "caa           int64\n",
      "thall         int64\n",
      "output        int64\n",
      "dtype: object\n"
     ]
    },
    {
     "data": {
      "image/png": "[encoded data removed]",
      "text/plain": [
       "<Figure size 432x288 with 16 Axes>"
      ]
     },
     "metadata": {
      "needs_background": "light"
     },
     "output_type": "display_data"
    }
   ],
   "source": [
    "df = pd.read_csv(\"heartattack.csv\")\n",
    "df.hist()\n",
    "print(df.dtypes)"
   ]
  },
  {
   "cell_type": "code",
   "execution_count": 3,
   "id": "5543f707",
   "metadata": {},
   "outputs": [
    {
     "data": {
      "text/html": [
       "<div>\n",
       "<style scoped>\n",
       "    .dataframe tbody tr th:only-of-type {\n",
       "        vertical-align: middle;\n",
       "    }\n",
       "\n",
       "    .dataframe tbody tr th {\n",
       "        vertical-align: top;\n",
       "    }\n",
       "\n",
       "    .dataframe thead th {\n",
       "        text-align: right;\n",
       "    }\n",
       "</style>\n",
       "<table border=\"1\" class=\"dataframe\">\n",
       "  <thead>\n",
       "    <tr style=\"text-align: right;\">\n",
       "      <th></th>\n",
       "      <th>age</th>\n",
       "      <th>sex</th>\n",
       "      <th>cp</th>\n",
       "      <th>trtbps</th>\n",
       "      <th>chol</th>\n",
       "      <th>fbs</th>\n",
       "      <th>restecg</th>\n",
       "      <th>thalachh</th>\n",
       "      <th>exng</th>\n",
       "      <th>oldpeak</th>\n",
       "      <th>slp</th>\n",
       "      <th>caa</th>\n",
       "      <th>thall</th>\n",
       "      <th>output</th>\n",
       "    </tr>\n",
       "  </thead>\n",
       "  <tbody>\n",
       "    <tr>\n",
       "      <th>0</th>\n",
       "      <td>63</td>\n",
       "      <td>1</td>\n",
       "      <td>3</td>\n",
       "      <td>145</td>\n",
       "      <td>233</td>\n",
       "      <td>1</td>\n",
       "      <td>0</td>\n",
       "      <td>150</td>\n",
       "      <td>0</td>\n",
       "      <td>2.3</td>\n",
       "      <td>0</td>\n",
       "      <td>0</td>\n",
       "      <td>1</td>\n",
       "      <td>1</td>\n",
       "    </tr>\n",
       "    <tr>\n",
       "      <th>1</th>\n",
       "      <td>37</td>\n",
       "      <td>1</td>\n",
       "      <td>2</td>\n",
       "      <td>130</td>\n",
       "      <td>250</td>\n",
       "      <td>0</td>\n",
       "      <td>1</td>\n",
       "      <td>187</td>\n",
       "      <td>0</td>\n",
       "      <td>3.5</td>\n",
       "      <td>0</td>\n",
       "      <td>0</td>\n",
       "      <td>2</td>\n",
       "      <td>1</td>\n",
       "    </tr>\n",
       "    <tr>\n",
       "      <th>2</th>\n",
       "      <td>41</td>\n",
       "      <td>0</td>\n",
       "      <td>1</td>\n",
       "      <td>130</td>\n",
       "      <td>204</td>\n",
       "      <td>0</td>\n",
       "      <td>0</td>\n",
       "      <td>172</td>\n",
       "      <td>0</td>\n",
       "      <td>1.4</td>\n",
       "      <td>2</td>\n",
       "      <td>0</td>\n",
       "      <td>2</td>\n",
       "      <td>1</td>\n",
       "    </tr>\n",
       "    <tr>\n",
       "      <th>3</th>\n",
       "      <td>56</td>\n",
       "      <td>1</td>\n",
       "      <td>1</td>\n",
       "      <td>120</td>\n",
       "      <td>236</td>\n",
       "      <td>0</td>\n",
       "      <td>1</td>\n",
       "      <td>178</td>\n",
       "      <td>0</td>\n",
       "      <td>0.8</td>\n",
       "      <td>2</td>\n",
       "      <td>0</td>\n",
       "      <td>2</td>\n",
       "      <td>1</td>\n",
       "    </tr>\n",
       "    <tr>\n",
       "      <th>4</th>\n",
       "      <td>57</td>\n",
       "      <td>0</td>\n",
       "      <td>0</td>\n",
       "      <td>120</td>\n",
       "      <td>354</td>\n",
       "      <td>0</td>\n",
       "      <td>1</td>\n",
       "      <td>163</td>\n",
       "      <td>1</td>\n",
       "      <td>0.6</td>\n",
       "      <td>2</td>\n",
       "      <td>0</td>\n",
       "      <td>2</td>\n",
       "      <td>1</td>\n",
       "    </tr>\n",
       "  </tbody>\n",
       "</table>\n",
       "</div>"
      ],
      "text/plain": [
       "   age  sex  cp  trtbps  chol  fbs  restecg  thalachh  exng  oldpeak  slp  \\\n",
       "0   63    1   3     145   233    1        0       150     0      2.3    0   \n",
       "1   37    1   2     130   250    0        1       187     0      3.5    0   \n",
       "2   41    0   1     130   204    0        0       172     0      1.4    2   \n",
       "3   56    1   1     120   236    0        1       178     0      0.8    2   \n",
       "4   57    0   0     120   354    0        1       163     1      0.6    2   \n",
       "\n",
       "   caa  thall  output  \n",
       "0    0      1       1  \n",
       "1    0      2       1  \n",
       "2    0      2       1  \n",
       "3    0      2       1  \n",
       "4    0      2       1  "
      ]
     },
     "execution_count": 3,
     "metadata": {},
     "output_type": "execute_result"
    }
   ],
   "source": [
    "df.head()"
   ]
  },
  {
   "cell_type": "markdown",
   "id": "bb631bf5",
   "metadata": {},
   "source": [
    "## Splitting the Data"
   ]
  },
  {
   "cell_type": "code",
   "execution_count": 4,
   "id": "ca6f9f10",
   "metadata": {},
   "outputs": [],
   "source": [
    "x = np.asanyarray(df[['age', 'sex', 'cp', 'trtbps', 'chol', 'fbs', 'restecg', 'thalachh', 'exng', 'oldpeak', 'slp', 'caa', 'thall']])\n",
    "y = np.asanyarray(df[['output']])\n",
    "\n",
    "# Normalizing the data\n",
    "x = preprocessing.normalize(x)\n",
    "\n",
    "x_train, x_test, y_train, y_test = train_test_split(x, y, test_size=0.20, random_state=1812)"
   ]
  },
  {
   "cell_type": "markdown",
   "id": "59bf22f8",
   "metadata": {},
   "source": [
    "## Training the Model"
   ]
  },
  {
   "cell_type": "code",
   "execution_count": 5,
   "id": "fa9d333e",
   "metadata": {},
   "outputs": [
    {
     "data": {
      "text/plain": [
       "DecisionTreeClassifier(criterion='entropy', max_depth=4)"
      ]
     },
     "execution_count": 5,
     "metadata": {},
     "output_type": "execute_result"
    }
   ],
   "source": [
    "bestTree = DecisionTreeClassifier(criterion=\"entropy\", max_depth = 4)\n",
    "bestTree.fit(x_train,y_train)"
   ]
  },
  {
   "cell_type": "markdown",
   "id": "b812dbde",
   "metadata": {},
   "source": [
    "## Evaluation"
   ]
  },
  {
   "cell_type": "code",
   "execution_count": 6,
   "id": "88c48dfa",
   "metadata": {
    "scrolled": true
   },
   "outputs": [
    {
     "name": "stdout",
     "output_type": "stream",
     "text": [
      "DecisionTrees's Accuracy:  0.9180327868852459\n"
     ]
    }
   ],
   "source": [
    "y_hat = bestTree.predict(x_test)\n",
    "print(\"DecisionTrees's Accuracy: \", metrics.accuracy_score(y_test, y_hat))\n"
   ]
  },
  {
   "cell_type": "markdown",
   "id": "19eceb80",
   "metadata": {},
   "source": [
    "## Checking other criterion and max_depth for even better result"
   ]
  },
  {
   "cell_type": "code",
   "execution_count": 7,
   "id": "2ff3aa11",
   "metadata": {},
   "outputs": [
    {
     "name": "stdout",
     "output_type": "stream",
     "text": [
      "DecisionTrees's Accuracy with entropy and max_depth of 1:  0.7704918032786885\n",
      "DecisionTrees's Accuracy with entropy and max_depth of 2:  0.8688524590163934\n",
      "DecisionTrees's Accuracy with entropy and max_depth of 3:  0.8524590163934426\n",
      "DecisionTrees's Accuracy with entropy and max_depth of 4:  0.9180327868852459\n",
      "DecisionTrees's Accuracy with entropy and max_depth of 5:  0.8688524590163934\n",
      "DecisionTrees's Accuracy with entropy and max_depth of 6:  0.819672131147541\n",
      "DecisionTrees's Accuracy with entropy and max_depth of 7:  0.819672131147541\n",
      "DecisionTrees's Accuracy with entropy and max_depth of 8:  0.8032786885245902\n",
      "DecisionTrees's Accuracy with entropy and max_depth of 9:  0.819672131147541\n",
      "DecisionTrees's Accuracy with entropy and max_depth of 10:  0.7704918032786885\n",
      "DecisionTrees's Accuracy with entropy and max_depth of 11:  0.8032786885245902\n",
      "DecisionTrees's Accuracy with entropy and max_depth of 12:  0.8032786885245902\n",
      "DecisionTrees's Accuracy with entropy and max_depth of 13:  0.8032786885245902\n",
      "DecisionTrees's Accuracy with entropy and max_depth of 14:  0.7868852459016393\n",
      "DecisionTrees's Accuracy with gini and max_depth of 1:  0.7704918032786885\n",
      "DecisionTrees's Accuracy with gini and max_depth of 2:  0.8688524590163934\n",
      "DecisionTrees's Accuracy with gini and max_depth of 3:  0.8524590163934426\n",
      "DecisionTrees's Accuracy with gini and max_depth of 4:  0.8032786885245902\n",
      "DecisionTrees's Accuracy with gini and max_depth of 5:  0.819672131147541\n",
      "DecisionTrees's Accuracy with gini and max_depth of 6:  0.819672131147541\n",
      "DecisionTrees's Accuracy with gini and max_depth of 7:  0.8032786885245902\n",
      "DecisionTrees's Accuracy with gini and max_depth of 8:  0.7868852459016393\n",
      "DecisionTrees's Accuracy with gini and max_depth of 9:  0.7868852459016393\n",
      "DecisionTrees's Accuracy with gini and max_depth of 10:  0.8032786885245902\n",
      "DecisionTrees's Accuracy with gini and max_depth of 11:  0.8032786885245902\n",
      "DecisionTrees's Accuracy with gini and max_depth of 12:  0.8032786885245902\n",
      "DecisionTrees's Accuracy with gini and max_depth of 13:  0.7704918032786885\n",
      "DecisionTrees's Accuracy with gini and max_depth of 14:  0.7704918032786885\n",
      "\n",
      "\n",
      "So, the best possible score is 0.9180327868852459\n"
     ]
    }
   ],
   "source": [
    "result = []\n",
    "criterions = ['entropy', 'gini']\n",
    "for criterion in criterions:\n",
    "    for depth in range(1, len(df.columns) + 1): # from 1 till the columns length\n",
    "        testTree = DecisionTreeClassifier(criterion=criterion, max_depth = depth)\n",
    "        testTree.fit(x_train,y_train)\n",
    "        y_hat = testTree.predict(x_test)\n",
    "        score = metrics.accuracy_score(y_test, y_hat)\n",
    "        print(f\"DecisionTrees's Accuracy with {criterion} and max_depth of {depth}: \", score)\n",
    "        result.append(score)\n",
    "\n",
    "print('\\n')\n",
    "print('So, the best possible score is', max(result))"
   ]
  },
  {
   "cell_type": "markdown",
   "id": "d507b995",
   "metadata": {},
   "source": [
    "<hr>\n",
    "\n",
    "<div id=\"visualization\">\n",
    "    <h2>Visualization</h2>\n",
    "\n",
    "Let's visualize the tree\n",
    "\n",
    "</div>\n"
   ]
  },
  {
   "cell_type": "code",
   "execution_count": null,
   "id": "ab495c5b",
   "metadata": {
    "button": false,
    "new_sheet": false,
    "run_control": {
     "read_only": false
    }
   },
   "outputs": [],
   "source": [
    "dot_data = StringIO()\n",
    "filename = \"heart-attack-tree.png\"\n",
    "featureNames = df.columns[0:13]\n",
    "out=tree.export_graphviz(bestTree,feature_names=featureNames, out_file=dot_data, filled=True,  special_characters=True,rotate=False)  \n",
    "graph = pydotplus.graph_from_dot_data(dot_data.getvalue())  \n",
    "graph.write_png(filename)\n",
    "img = mpimg.imread(filename)\n",
    "plt.figure(figsize=(100, 200))\n",
    "plt.imshow(img,interpolation='nearest')"
   ]
  },
  {
   "cell_type": "markdown",
   "id": "8b38c285",
   "metadata": {},
   "source": [
    "## Saving the model for future use"
   ]
  },
  {
   "cell_type": "code",
   "execution_count": null,
   "id": "06ec3a85",
   "metadata": {},
   "outputs": [],
   "source": [
    "dump(bestTree, 'heartattack-model.joblib') "
   ]
  }
 ],
 "metadata": {
  "kernelspec": {
   "display_name": "Python 3 (ipykernel)",
   "language": "python",
   "name": "python3"
  },
  "language_info": {
   "codemirror_mode": {
    "name": "ipython",
    "version": 3
   },
   "file_extension": ".py",
   "mimetype": "text/x-python",
   "name": "python",
   "nbconvert_exporter": "python",
   "pygments_lexer": "ipython3",
   "version": "3.9.7"
  }
 },
 "nbformat": 4,
 "nbformat_minor": 5
}
